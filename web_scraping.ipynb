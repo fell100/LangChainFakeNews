{
 "cells": [
  {
   "cell_type": "markdown",
   "metadata": {},
   "source": [
    "---\n",
    "\n",
    "Extrair noticias dos sites de verificação de fake news: \n",
    "<br> https://lupa.uol.com.br/jornalismo/categoria/verifica%C3%A7%C3%A3o \n",
    "<br> https://g1.globo.com/fato-ou-fake/\n",
    "<br> https://apublica.org/tipo_nota/entrelinhas-do-poder/\n",
    "<br> https://www.e-farsas.com/\n",
    "\n",
    "---"
   ]
  },
  {
   "cell_type": "code",
   "execution_count": 32,
   "metadata": {},
   "outputs": [],
   "source": [
    "\n",
    "from time import sleep\n",
    "from selenium import webdriver\n",
    "from selenium.webdriver.common.by import By\n",
    "from selenium.webdriver.chrome.service import Service\n",
    "from selenium.webdriver.support.ui import WebDriverWait\n",
    "from selenium.webdriver.support import expected_conditions as EC\n",
    "from selenium.webdriver.chrome.service import Service as ChromeService\n",
    "from webdriver_manager.chrome import ChromeDriverManager\n",
    "from bs4 import BeautifulSoup\n",
    "from tqdm import tqdm\n",
    "import pandas as pd"
   ]
  },
  {
   "cell_type": "code",
   "execution_count": 33,
   "metadata": {},
   "outputs": [],
   "source": [
    "'''\n",
    "Cria uma instância do objeto que controla o início e parada do ChromeDriver\n",
    "'''\n",
    "s = Service('./chromedriver.exe')\n",
    "'''\n",
    "Define as opções do webdriver do Chrome\n",
    "'''\n",
    "options = webdriver.ChromeOptions()\n",
    "#options.add_argument('--headless')\n",
    "options.add_argument('--no-sandbox')\n",
    "options.add_argument('--disable-dev-shm-usage')\n",
    "options.add_argument(\"--disable-notifications\")\n",
    "options.add_argument(\"start-maximized\")\n",
    "options.add_experimental_option(\"excludeSwitches\", [\"enable-automation\"])\n",
    "options.add_experimental_option('useAutomationExtension', False)\n",
    "options.add_argument('--disable-gpu')\n",
    "options.add_argument(\"user-agent=Mozilla/5.0 (Windows NT 6.1; Win64; x64) AppleWebKit/537.36 (KHTML, like Gecko) Chrome/84.0.4147.125 Safari/537.36\")\n"
   ]
  },
  {
   "cell_type": "markdown",
   "metadata": {},
   "source": [
    "#### Carregando a página e scrollando para obter todos os links"
   ]
  },
  {
   "cell_type": "code",
   "execution_count": 34,
   "metadata": {},
   "outputs": [
    {
     "name": "stderr",
     "output_type": "stream",
     "text": [
      "Scrolling and Clicking:  14%|█▎        | 410/3000 [55:05<5:48:01,  8.06s/it]\n"
     ]
    },
    {
     "ename": "KeyboardInterrupt",
     "evalue": "",
     "output_type": "error",
     "traceback": [
      "\u001b[1;31m---------------------------------------------------------------------------\u001b[0m",
      "\u001b[1;31mKeyboardInterrupt\u001b[0m                         Traceback (most recent call last)",
      "Cell \u001b[1;32mIn[34], line 16\u001b[0m\n\u001b[0;32m     14\u001b[0m     button \u001b[38;5;241m=\u001b[39m WebDriverWait(driver, \u001b[38;5;241m7\u001b[39m)\u001b[38;5;241m.\u001b[39muntil(EC\u001b[38;5;241m.\u001b[39mpresence_of_element_located((By\u001b[38;5;241m.\u001b[39mXPATH, button_xpath)))\n\u001b[0;32m     15\u001b[0m     button\u001b[38;5;241m.\u001b[39mclick()\n\u001b[1;32m---> 16\u001b[0m     sleep(\u001b[38;5;241m8\u001b[39m)\n\u001b[0;32m     17\u001b[0m \u001b[38;5;28;01mexcept\u001b[39;00m \u001b[38;5;167;01mException\u001b[39;00m \u001b[38;5;28;01mas\u001b[39;00m e:\n\u001b[0;32m     18\u001b[0m     \u001b[38;5;28mprint\u001b[39m(\u001b[38;5;124mf\u001b[39m\u001b[38;5;124m\"\u001b[39m\u001b[38;5;124mAn error occurred: \u001b[39m\u001b[38;5;132;01m{\u001b[39;00me\u001b[38;5;132;01m}\u001b[39;00m\u001b[38;5;124m\"\u001b[39m)\n",
      "\u001b[1;31mKeyboardInterrupt\u001b[0m: "
     ]
    }
   ],
   "source": [
    "link = \"https://lupa.uol.com.br/jornalismo/categoria/verifica%C3%A7%C3%A3o \"\n",
    "driver = webdriver.Chrome(service=ChromeService(ChromeDriverManager().install()),options=options) # abre o browser Chrome\n",
    "driver.get(link)\n",
    "sleep(8)\n",
    "\n",
    "total_iterations = 3000\n",
    "\n",
    "for counter in tqdm(range(total_iterations), desc=\"Scrolling and Clicking\"):\n",
    "    try:\n",
    "        driver.execute_script(\"window.scrollTo(0, document.body.scrollHeight);\")\n",
    "        driver.implicitly_wait(8)\n",
    "        button_class = \"sc-cwSeag jxHWSb\"\n",
    "        button_xpath = f\"//button[@class='{button_class}']\"\n",
    "        button = WebDriverWait(driver, 7).until(EC.presence_of_element_located((By.XPATH, button_xpath)))\n",
    "        button.click()\n",
    "        sleep(8)\n",
    "    except Exception as e:\n",
    "        print(f\"An error occurred: {e}\")\n",
    "        continue\n"
   ]
  },
  {
   "cell_type": "markdown",
   "metadata": {},
   "source": [
    "#### Coletando as informações e os links das notícias"
   ]
  },
  {
   "cell_type": "code",
   "execution_count": 35,
   "metadata": {},
   "outputs": [],
   "source": [
    "\n",
    "elements = driver.find_elements(by=By.XPATH, value = \"//div[@id='init']//div[@class='sc-dkrFOg cbDCWR']\")\n",
    "data = []\n",
    "for element in elements:\n",
    "    link = element.find_element(By.XPATH, \"*//a[@class='sc-eDWCr hNENvd']\").get_attribute('href')\n",
    "    author = element.find_element(By.XPATH, \".//div[@class='sc-hLBbgP gREmsY']//span[@class='sc-eDvSVe hQCdpY']\").text\n",
    "    title = element.find_element(By.XPATH, \".//div[@class='sc-hLBbgP eRlKZk']//span\").text\n",
    "    headline = element.find_element(By.XPATH, \".//div[@class='sc-hLBbgP gQITEQ']//span/p\").text\n",
    "    data.append({'Author': author, 'Link': link, 'Title': title, 'Headline': headline})"
   ]
  },
  {
   "cell_type": "code",
   "execution_count": 36,
   "metadata": {},
   "outputs": [
    {
     "data": {
      "text/plain": [
       "480"
      ]
     },
     "execution_count": 36,
     "metadata": {},
     "output_type": "execute_result"
    }
   ],
   "source": [
    "len(data)"
   ]
  },
  {
   "cell_type": "code",
   "execution_count": null,
   "metadata": {},
   "outputs": [],
   "source": [
    "df = pd.DataFrame(data)"
   ]
  },
  {
   "cell_type": "code",
   "execution_count": null,
   "metadata": {},
   "outputs": [
    {
     "data": {
      "text/html": [
       "<div>\n",
       "<style scoped>\n",
       "    .dataframe tbody tr th:only-of-type {\n",
       "        vertical-align: middle;\n",
       "    }\n",
       "\n",
       "    .dataframe tbody tr th {\n",
       "        vertical-align: top;\n",
       "    }\n",
       "\n",
       "    .dataframe thead th {\n",
       "        text-align: right;\n",
       "    }\n",
       "</style>\n",
       "<table border=\"1\" class=\"dataframe\">\n",
       "  <thead>\n",
       "    <tr style=\"text-align: right;\">\n",
       "      <th></th>\n",
       "      <th>Author</th>\n",
       "      <th>Link</th>\n",
       "      <th>Title</th>\n",
       "      <th>Headline</th>\n",
       "    </tr>\n",
       "  </thead>\n",
       "  <tbody>\n",
       "    <tr>\n",
       "      <th>0</th>\n",
       "      <td>Por Ítalo Rômany</td>\n",
       "      <td>https://lupa.uol.com.br/jornalismo/2023/12/29/...</td>\n",
       "      <td>Formigas com foto de Cristo e dança da picanha...</td>\n",
       "      <td>Suzane von Richthofen foi convidada para integ...</td>\n",
       "    </tr>\n",
       "    <tr>\n",
       "      <th>1</th>\n",
       "      <td>Por Maiquel Rosauro</td>\n",
       "      <td>https://lupa.uol.com.br/jornalismo/2023/12/27/...</td>\n",
       "      <td>Lula e Bolsonaro são tema das verificações mai...</td>\n",
       "      <td>Levantamento da Lupa mostra as dez verificaçõe...</td>\n",
       "    </tr>\n",
       "    <tr>\n",
       "      <th>2</th>\n",
       "      <td>Por Evelyn Fagundes</td>\n",
       "      <td>https://lupa.uol.com.br/jornalismo/2023/12/21/...</td>\n",
       "      <td>Filha de Ana Maria Braga fez afirmações falsas...</td>\n",
       "      <td>Circula nas redes um vídeo em que Mariana Maff...</td>\n",
       "    </tr>\n",
       "    <tr>\n",
       "      <th>3</th>\n",
       "      <td>Por Maiquel Rosauro</td>\n",
       "      <td>https://lupa.uol.com.br/jornalismo/2023/12/21/...</td>\n",
       "      <td>Decoração natalina na Praça da Sé não é inicia...</td>\n",
       "      <td>Post alega que o governador de São Paulo, Tarc...</td>\n",
       "    </tr>\n",
       "    <tr>\n",
       "      <th>4</th>\n",
       "      <td>Por Gabriela Soares</td>\n",
       "      <td>https://lupa.uol.com.br/jornalismo/2023/12/20/...</td>\n",
       "      <td>É golpe programa ‘Abono Natalino’ com benefíci...</td>\n",
       "      <td>Link compartilhado nas redes sociais promove u...</td>\n",
       "    </tr>\n",
       "  </tbody>\n",
       "</table>\n",
       "</div>"
      ],
      "text/plain": [
       "                Author                                               Link   \n",
       "0     Por Ítalo Rômany  https://lupa.uol.com.br/jornalismo/2023/12/29/...  \\\n",
       "1  Por Maiquel Rosauro  https://lupa.uol.com.br/jornalismo/2023/12/27/...   \n",
       "2  Por Evelyn Fagundes  https://lupa.uol.com.br/jornalismo/2023/12/21/...   \n",
       "3  Por Maiquel Rosauro  https://lupa.uol.com.br/jornalismo/2023/12/21/...   \n",
       "4  Por Gabriela Soares  https://lupa.uol.com.br/jornalismo/2023/12/20/...   \n",
       "\n",
       "                                               Title   \n",
       "0  Formigas com foto de Cristo e dança da picanha...  \\\n",
       "1  Lula e Bolsonaro são tema das verificações mai...   \n",
       "2  Filha de Ana Maria Braga fez afirmações falsas...   \n",
       "3  Decoração natalina na Praça da Sé não é inicia...   \n",
       "4  É golpe programa ‘Abono Natalino’ com benefíci...   \n",
       "\n",
       "                                            Headline  \n",
       "0  Suzane von Richthofen foi convidada para integ...  \n",
       "1  Levantamento da Lupa mostra as dez verificaçõe...  \n",
       "2  Circula nas redes um vídeo em que Mariana Maff...  \n",
       "3  Post alega que o governador de São Paulo, Tarc...  \n",
       "4  Link compartilhado nas redes sociais promove u...  "
      ]
     },
     "execution_count": 29,
     "metadata": {},
     "output_type": "execute_result"
    }
   ],
   "source": [
    "df.head()"
   ]
  },
  {
   "cell_type": "code",
   "execution_count": null,
   "metadata": {},
   "outputs": [
    {
     "data": {
      "text/plain": [
       "Author                                       Por Ítalo Rômany\n",
       "Link        https://lupa.uol.com.br/jornalismo/2023/12/29/...\n",
       "Title       Formigas com foto de Cristo e dança da picanha...\n",
       "Headline    Suzane von Richthofen foi convidada para integ...\n",
       "Name: 0, dtype: object"
      ]
     },
     "execution_count": 30,
     "metadata": {},
     "output_type": "execute_result"
    }
   ],
   "source": [
    "df.iloc[0]"
   ]
  },
  {
   "cell_type": "code",
   "execution_count": null,
   "metadata": {},
   "outputs": [],
   "source": [
    "df.to_csv(\"links_lupa_uol.csv\", index=False)"
   ]
  },
  {
   "cell_type": "code",
   "execution_count": null,
   "metadata": {},
   "outputs": [],
   "source": [
    "df = pd.read_csv(\"links_lupa_uol.csv\")"
   ]
  },
  {
   "cell_type": "code",
   "execution_count": null,
   "metadata": {},
   "outputs": [],
   "source": [
    "df.insert(loc=0, column='RawText', value='')"
   ]
  },
  {
   "cell_type": "code",
   "execution_count": null,
   "metadata": {},
   "outputs": [],
   "source": [
    "#Keep runing on the links not extracted yet\n",
    "#df = pd.read_csv(\"noticias_lupa.csv\")"
   ]
  },
  {
   "cell_type": "code",
   "execution_count": null,
   "metadata": {},
   "outputs": [],
   "source": [
    "#df = df[df.RawText.isna() == True]"
   ]
  },
  {
   "cell_type": "code",
   "execution_count": null,
   "metadata": {},
   "outputs": [],
   "source": [
    "driver = webdriver.Chrome(service=ChromeService(ChromeDriverManager().install()),options=options)"
   ]
  },
  {
   "cell_type": "code",
   "execution_count": null,
   "metadata": {},
   "outputs": [
    {
     "name": "stderr",
     "output_type": "stream",
     "text": [
      "Access the page and extracting text: 100%|██████████| 480/480 [08:28<00:00,  1.06s/it]\n"
     ]
    }
   ],
   "source": [
    "for i in tqdm(range(len(df)), desc=\"Access the page and extracting text\"):\n",
    "    try:\n",
    "        link = df.iloc[i]['Link']\n",
    "\n",
    "        driver.get(link)\n",
    "        \n",
    "        WebDriverWait(driver, 10).until(EC.presence_of_element_located((By.XPATH,\"*//div[@id='root']\")))\n",
    "        \n",
    "        elements = driver.find_elements(by=By.XPATH, value = \"*//div[@id='root']\")\n",
    "        \n",
    "        text_str = elements[0].text\n",
    "        \n",
    "        #Retira ruido antes de \"Entrar\" \n",
    "        text_str = text_str.split('Entrar')[1]\n",
    "        \n",
    "        #Retira ruido após \"Leia Também\"\n",
    "        text_str = text_str.split('Leia também')[0]\n",
    "        \n",
    "        df.at[i, 'RawText'] = text_str\n",
    "        \n",
    "        if i % 7 == 0:\n",
    "            sleep(1)\n",
    "            df.to_csv(\"noticias_lupa.csv\", index = False)\n",
    "    except:\n",
    "        print(f\"Problem on {i}\")\n",
    "        print(link)\n",
    "driver.quit()"
   ]
  },
  {
   "cell_type": "code",
   "execution_count": null,
   "metadata": {},
   "outputs": [
    {
     "data": {
      "text/html": [
       "<div>\n",
       "<style scoped>\n",
       "    .dataframe tbody tr th:only-of-type {\n",
       "        vertical-align: middle;\n",
       "    }\n",
       "\n",
       "    .dataframe tbody tr th {\n",
       "        vertical-align: top;\n",
       "    }\n",
       "\n",
       "    .dataframe thead th {\n",
       "        text-align: right;\n",
       "    }\n",
       "</style>\n",
       "<table border=\"1\" class=\"dataframe\">\n",
       "  <thead>\n",
       "    <tr style=\"text-align: right;\">\n",
       "      <th></th>\n",
       "      <th>RawText</th>\n",
       "      <th>Author</th>\n",
       "      <th>Link</th>\n",
       "      <th>Title</th>\n",
       "      <th>Headline</th>\n",
       "    </tr>\n",
       "  </thead>\n",
       "  <tbody>\n",
       "    <tr>\n",
       "      <th>0</th>\n",
       "      <td>\\nRetrospectiva\\nFormigas com foto de Cristo e...</td>\n",
       "      <td>Por Ítalo Rômany</td>\n",
       "      <td>https://lupa.uol.com.br/jornalismo/2023/12/29/...</td>\n",
       "      <td>Formigas com foto de Cristo e dança da picanha...</td>\n",
       "      <td>Suzane von Richthofen foi convidada para integ...</td>\n",
       "    </tr>\n",
       "    <tr>\n",
       "      <th>1</th>\n",
       "      <td>\\n‌\\n\\n‌\\n\\n‌\\n\\n‌\\n\\n‌\\n\\n‌</td>\n",
       "      <td>Por Maiquel Rosauro</td>\n",
       "      <td>https://lupa.uol.com.br/jornalismo/2023/12/27/...</td>\n",
       "      <td>Lula e Bolsonaro são tema das verificações mai...</td>\n",
       "      <td>Levantamento da Lupa mostra as dez verificaçõe...</td>\n",
       "    </tr>\n",
       "    <tr>\n",
       "      <th>2</th>\n",
       "      <td>\\n‌\\n\\n‌\\n\\n‌\\n\\n‌\\n\\n‌\\n\\n‌\\n\\nSobre a lupa\\n...</td>\n",
       "      <td>Por Evelyn Fagundes</td>\n",
       "      <td>https://lupa.uol.com.br/jornalismo/2023/12/21/...</td>\n",
       "      <td>Filha de Ana Maria Braga fez afirmações falsas...</td>\n",
       "      <td>Circula nas redes um vídeo em que Mariana Maff...</td>\n",
       "    </tr>\n",
       "    <tr>\n",
       "      <th>3</th>\n",
       "      <td>\\n‌\\n\\n‌\\n\\n‌\\n\\n‌\\n\\n‌\\n\\n‌</td>\n",
       "      <td>Por Maiquel Rosauro</td>\n",
       "      <td>https://lupa.uol.com.br/jornalismo/2023/12/21/...</td>\n",
       "      <td>Decoração natalina na Praça da Sé não é inicia...</td>\n",
       "      <td>Post alega que o governador de São Paulo, Tarc...</td>\n",
       "    </tr>\n",
       "    <tr>\n",
       "      <th>4</th>\n",
       "      <td>\\n‌\\n\\n‌\\n\\n‌\\n\\n‌\\n\\n‌\\n\\n‌\\n\\nSobre a lupa\\n...</td>\n",
       "      <td>Por Gabriela Soares</td>\n",
       "      <td>https://lupa.uol.com.br/jornalismo/2023/12/20/...</td>\n",
       "      <td>É golpe programa ‘Abono Natalino’ com benefíci...</td>\n",
       "      <td>Link compartilhado nas redes sociais promove u...</td>\n",
       "    </tr>\n",
       "  </tbody>\n",
       "</table>\n",
       "</div>"
      ],
      "text/plain": [
       "                                             RawText               Author   \n",
       "0  \\nRetrospectiva\\nFormigas com foto de Cristo e...     Por Ítalo Rômany  \\\n",
       "1                       \\n‌\\n\\n‌\\n\\n‌\\n\\n‌\\n\\n‌\\n\\n‌  Por Maiquel Rosauro   \n",
       "2  \\n‌\\n\\n‌\\n\\n‌\\n\\n‌\\n\\n‌\\n\\n‌\\n\\nSobre a lupa\\n...  Por Evelyn Fagundes   \n",
       "3                       \\n‌\\n\\n‌\\n\\n‌\\n\\n‌\\n\\n‌\\n\\n‌  Por Maiquel Rosauro   \n",
       "4  \\n‌\\n\\n‌\\n\\n‌\\n\\n‌\\n\\n‌\\n\\n‌\\n\\nSobre a lupa\\n...  Por Gabriela Soares   \n",
       "\n",
       "                                                Link   \n",
       "0  https://lupa.uol.com.br/jornalismo/2023/12/29/...  \\\n",
       "1  https://lupa.uol.com.br/jornalismo/2023/12/27/...   \n",
       "2  https://lupa.uol.com.br/jornalismo/2023/12/21/...   \n",
       "3  https://lupa.uol.com.br/jornalismo/2023/12/21/...   \n",
       "4  https://lupa.uol.com.br/jornalismo/2023/12/20/...   \n",
       "\n",
       "                                               Title   \n",
       "0  Formigas com foto de Cristo e dança da picanha...  \\\n",
       "1  Lula e Bolsonaro são tema das verificações mai...   \n",
       "2  Filha de Ana Maria Braga fez afirmações falsas...   \n",
       "3  Decoração natalina na Praça da Sé não é inicia...   \n",
       "4  É golpe programa ‘Abono Natalino’ com benefíci...   \n",
       "\n",
       "                                            Headline  \n",
       "0  Suzane von Richthofen foi convidada para integ...  \n",
       "1  Levantamento da Lupa mostra as dez verificaçõe...  \n",
       "2  Circula nas redes um vídeo em que Mariana Maff...  \n",
       "3  Post alega que o governador de São Paulo, Tarc...  \n",
       "4  Link compartilhado nas redes sociais promove u...  "
      ]
     },
     "execution_count": 16,
     "metadata": {},
     "output_type": "execute_result"
    }
   ],
   "source": [
    "df.head()"
   ]
  },
  {
   "cell_type": "code",
   "execution_count": null,
   "metadata": {},
   "outputs": [],
   "source": [
    "df.to_csv(\"noticias_lupa.csv\", index = False)"
   ]
  }
 ],
 "metadata": {
  "kernelspec": {
   "display_name": "base",
   "language": "python",
   "name": "python3"
  },
  "language_info": {
   "codemirror_mode": {
    "name": "ipython",
    "version": 3
   },
   "file_extension": ".py",
   "mimetype": "text/x-python",
   "name": "python",
   "nbconvert_exporter": "python",
   "pygments_lexer": "ipython3",
   "version": "3.11.7"
  }
 },
 "nbformat": 4,
 "nbformat_minor": 2
}
