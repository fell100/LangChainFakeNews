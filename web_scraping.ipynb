{
 "cells": [
  {
   "cell_type": "markdown",
   "metadata": {},
   "source": [
    "---\n",
    "\n",
    "Extrair noticias dos sites de verificação de fake news: \n",
    "<br> https://lupa.uol.com.br/jornalismo/categoria/verifica%C3%A7%C3%A3o \n",
    "<br> https://g1.globo.com/fato-ou-fake/\n",
    "<br> https://apublica.org/tipo_nota/entrelinhas-do-poder/\n",
    "<br> https://www.e-farsas.com/\n",
    "\n",
    "---"
   ]
  },
  {
   "cell_type": "code",
   "execution_count": null,
   "metadata": {},
   "outputs": [],
   "source": [
    "\n",
    "from time import sleep\n",
    "from selenium import webdriver\n",
    "from selenium.webdriver.common.by import By\n",
    "from selenium.webdriver.chrome.service import Service\n",
    "from selenium.webdriver.support.ui import WebDriverWait\n",
    "from selenium.webdriver.support import expected_conditions as EC\n",
    "from selenium.webdriver.chrome.service import Service as ChromeService\n",
    "from webdriver_manager.chrome import ChromeDriverManager\n",
    "from bs4 import BeautifulSoup\n",
    "from tqdm import tqdm\n",
    "import pandas as pd"
   ]
  },
  {
   "cell_type": "code",
   "execution_count": null,
   "metadata": {},
   "outputs": [],
   "source": [
    "'''\n",
    "Cria uma instância do objeto que controla o início e parada do ChromeDriver\n",
    "'''\n",
    "s = Service('./chromedriver.exe')\n",
    "'''\n",
    "Define as opções do webdriver do Chrome\n",
    "'''\n",
    "options = webdriver.ChromeOptions()\n",
    "#options.add_argument('--headless')\n",
    "options.add_argument('--no-sandbox')\n",
    "options.add_argument('--disable-dev-shm-usage')\n",
    "options.add_argument(\"--disable-notifications\")\n",
    "options.add_argument(\"start-maximized\")\n",
    "options.add_experimental_option(\"excludeSwitches\", [\"enable-automation\"])\n",
    "options.add_experimental_option('useAutomationExtension', False)\n",
    "options.add_argument('--disable-gpu')\n",
    "options.add_argument(\"user-agent=Mozilla/5.0 (Windows NT 6.1; Win64; x64) AppleWebKit/537.36 (KHTML, like Gecko) Chrome/84.0.4147.125 Safari/537.36\")\n"
   ]
  },
  {
   "cell_type": "markdown",
   "metadata": {},
   "source": [
    "#### Carregando a página e scrollando para obter todos os links"
   ]
  },
  {
   "cell_type": "code",
   "execution_count": null,
   "metadata": {},
   "outputs": [],
   "source": [
    "link = \"https://lupa.uol.com.br/jornalismo/categoria/verifica%C3%A7%C3%A3o \"\n",
    "driver = webdriver.Chrome(service=ChromeService(ChromeDriverManager().install()),options=options) # abre o browser Chrome\n",
    "driver.get(link)\n",
    "sleep(5)\n",
    "\n",
    "total_iterations = 100\n",
    "\n",
    "for counter in tqdm(range(total_iterations), desc=\"Scrolling and Clicking\"):\n",
    "    try:\n",
    "        driver.execute_script(\"window.scrollTo(0, document.body.scrollHeight);\")\n",
    "        driver.implicitly_wait(5)\n",
    "        button_class = \"sc-cwSeag jxHWSb\"\n",
    "        button_xpath = f\"//button[@class='{button_class}']\"\n",
    "        button = WebDriverWait(driver, 7).until(EC.presence_of_element_located((By.XPATH, button_xpath)))\n",
    "        button.click()\n",
    "        sleep(5)\n",
    "    except Exception as e:\n",
    "        print(f\"An error occurred: {e}\")\n",
    "        break\n"
   ]
  },
  {
   "cell_type": "markdown",
   "metadata": {},
   "source": [
    "#### Coletando as informações e os links das notícias"
   ]
  },
  {
   "cell_type": "code",
   "execution_count": null,
   "metadata": {},
   "outputs": [],
   "source": [
    "\n",
    "elements = driver.find_elements(by=By.XPATH, value = \"//div[@id='init']//div[@class='sc-dkrFOg cbDCWR']\")\n",
    "data = []\n",
    "for element in elements:\n",
    "    link = element.find_element(By.XPATH, \"*//a[@class='sc-eDWCr hNENvd']\").get_attribute('href')\n",
    "    author = element.find_element(By.XPATH, \".//div[@class='sc-hLBbgP gREmsY']//span[@class='sc-eDvSVe hQCdpY']\").text\n",
    "    title = element.find_element(By.XPATH, \".//div[@class='sc-hLBbgP eRlKZk']//span\").text\n",
    "    headline = element.find_element(By.XPATH, \".//div[@class='sc-hLBbgP gQITEQ']//span/p\").text\n",
    "    data.append({'Author': author, 'Link': link, 'Title': title, 'Headline': headline})"
   ]
  },
  {
   "cell_type": "code",
   "execution_count": null,
   "metadata": {},
   "outputs": [],
   "source": [
    "len(data)"
   ]
  },
  {
   "cell_type": "code",
   "execution_count": null,
   "metadata": {},
   "outputs": [],
   "source": [
    "df = pd.DataFrame(data)"
   ]
  },
  {
   "cell_type": "code",
   "execution_count": null,
   "metadata": {},
   "outputs": [],
   "source": [
    "df.head()"
   ]
  },
  {
   "cell_type": "code",
   "execution_count": null,
   "metadata": {},
   "outputs": [],
   "source": [
    "df.iloc[0]"
   ]
  },
  {
   "cell_type": "code",
   "execution_count": null,
   "metadata": {},
   "outputs": [],
   "source": [
    "df.to_csv(\"links_lupa_uol.csv\", index=False)"
   ]
  },
  {
   "cell_type": "code",
   "execution_count": null,
   "metadata": {},
   "outputs": [],
   "source": [
    "df = pd.read_csv(\"links_lupa_uol.csv\")"
   ]
  },
  {
   "cell_type": "code",
   "execution_count": null,
   "metadata": {},
   "outputs": [],
   "source": [
    "df.insert(loc=0, column='RawText', value='')"
   ]
  },
  {
   "cell_type": "code",
   "execution_count": null,
   "metadata": {},
   "outputs": [],
   "source": [
    "for i in tqdm(range(len(df)), desc=\"Access the page and extracting text\"):\n",
    "    \n",
    "    link = df.iloc[i]['Link']\n",
    "\n",
    "    driver = webdriver.Chrome(service=ChromeService(ChromeDriverManager().install()),options=options) \n",
    "    driver.get(link)\n",
    "    sleep(3)\n",
    "    \n",
    "    elements = driver.find_elements(by=By.XPATH, value = \"*//div[@id='root']\")\n",
    "    \n",
    "    text_str = elements[0].text\n",
    "    \n",
    "    #Retira ruido antes de \"Entrar\" \n",
    "    text_str = text_str.split('Entrar')[1]\n",
    "    \n",
    "    #Retira ruido após \"Leia Também\"\n",
    "    text_str = text_str.split('Leia também')[0]\n",
    "    \n",
    "    df.at[i, 'RawText'] = text_str\n",
    "    \n",
    "    driver.quit()"
   ]
  },
  {
   "cell_type": "code",
   "execution_count": null,
   "metadata": {},
   "outputs": [],
   "source": [
    "df.head()"
   ]
  },
  {
   "cell_type": "code",
   "execution_count": null,
   "metadata": {},
   "outputs": [],
   "source": [
    "df.to_csv(\"noticias_lupa.csv\", index = False)"
   ]
  }
 ],
 "metadata": {
  "kernelspec": {
   "display_name": "base",
   "language": "python",
   "name": "python3"
  },
  "language_info": {
   "codemirror_mode": {
    "name": "ipython",
    "version": 3
   },
   "file_extension": ".py",
   "mimetype": "text/x-python",
   "name": "python",
   "nbconvert_exporter": "python",
   "pygments_lexer": "ipython3",
   "version": "3.11.7"
  }
 },
 "nbformat": 4,
 "nbformat_minor": 2
}
